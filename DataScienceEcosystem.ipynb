{
 "cells": [
  {
   "cell_type": "markdown",
   "id": "178ac43f-b6bd-41ff-ba5c-caca20a18ec8",
   "metadata": {},
   "source": [
    "## Data Science Tools and Ecosystem"
   ]
  },
  {
   "cell_type": "markdown",
   "id": "a5738d3c-bc3f-4efe-8d8c-78535ebd56f8",
   "metadata": {},
   "source": [
    "In this notebook, Data Science Tools and Ecosystem are summarized."
   ]
  },
  {
   "cell_type": "markdown",
   "id": "cacaf84b-b76e-4f71-9064-bc02115b5b73",
   "metadata": {},
   "source": [
    "**Objectives:**\n",
    "- Popular Languages libraries\n",
    "- Data Science Tools\n",
    "- Data Science Tools  "
   ]
  },
  {
   "cell_type": "markdown",
   "id": "f666c4ce-ca96-4bf3-b9ad-ed0ee0f17a45",
   "metadata": {},
   "source": [
    "Some of the popular languages that Data Scientists use are:\n",
    "1. Python \n",
    "2. R \n",
    "3. Java"
   ]
  },
  {
   "cell_type": "markdown",
   "id": "7419c47b-a215-4df4-b2f0-63b180876d16",
   "metadata": {},
   "source": [
    "Some of the commonly used libraries used by Data Scientists include:\n",
    "1. sikit-learn\n",
    "2. Tensorflow\n",
    "3. Pytorch"
   ]
  },
  {
   "cell_type": "markdown",
   "id": "1fc1ea43-f1ff-4479-acbf-9a010a339b24",
   "metadata": {},
   "source": [
    "Data Science Tools\n",
    "1. JupyterLab\n",
    "2. VS Code\n",
    "3. Google Collab "
   ]
  },
  {
   "cell_type": "markdown",
   "id": "699bd4ae-e8da-4ae0-87f1-5e924ceac0d6",
   "metadata": {},
   "source": [
    "Below are a few examples of evaluating arithmetic expressions in Python"
   ]
  },
  {
   "cell_type": "code",
   "execution_count": 3,
   "id": "d896fed3-b9b6-456a-9f17-ffd4cc30552e",
   "metadata": {},
   "outputs": [
    {
     "data": {
      "text/plain": [
       "17"
      ]
     },
     "execution_count": 3,
     "metadata": {},
     "output_type": "execute_result"
    }
   ],
   "source": [
    "#This a simple arithmetic expression to mutiply then add integers\n",
    "(3*4)+5"
   ]
  },
  {
   "cell_type": "code",
   "execution_count": 5,
   "id": "61f3e4e2-e2bd-45d0-a5bf-1381bef24fad",
   "metadata": {},
   "outputs": [
    {
     "data": {
      "text/plain": [
       "3.3333333333333335"
      ]
     },
     "execution_count": 5,
     "metadata": {},
     "output_type": "execute_result"
    }
   ],
   "source": [
    "#This will convert 200 minutes to hours by diving by 60\n",
    "200 / 60"
   ]
  },
  {
   "cell_type": "markdown",
   "id": "54123583-e286-4ce4-bb98-54be0ef72c64",
   "metadata": {},
   "source": [
    "### Author \n",
    "Sameep Mondhe "
   ]
  },
  {
   "cell_type": "code",
   "execution_count": null,
   "id": "38494e18-3b43-472a-9032-c4aa36271884",
   "metadata": {},
   "outputs": [],
   "source": []
  },
  {
   "cell_type": "code",
   "execution_count": null,
   "id": "1f889591-5358-4824-bb69-9635fb9fbbb3",
   "metadata": {},
   "outputs": [],
   "source": []
  }
 ],
 "metadata": {
  "kernelspec": {
   "display_name": "Python 3 (ipykernel)",
   "language": "python",
   "name": "python3"
  },
  "language_info": {
   "codemirror_mode": {
    "name": "ipython",
    "version": 3
   },
   "file_extension": ".py",
   "mimetype": "text/x-python",
   "name": "python",
   "nbconvert_exporter": "python",
   "pygments_lexer": "ipython3",
   "version": "3.8.20"
  }
 },
 "nbformat": 4,
 "nbformat_minor": 5
}
